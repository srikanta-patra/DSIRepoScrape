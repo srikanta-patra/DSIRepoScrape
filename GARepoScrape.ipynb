{
 "cells": [
  {
   "cell_type": "markdown",
   "metadata": {},
   "source": [
    "### Srikanta Patra\n",
    "\n",
    "## Scrape Repo links from General Assembly DSI-SYD-2\n",
    "\n",
    "* The below code will scrape all available class lessons repo for DSI-SYD-2 git hub area and out put a git clone command for each link.\n",
    "\n",
    "Modify as per your credentials:\n",
    "* input_user_name.send_keys('your email address')\n",
    "* input_password.send_keys('your DSI-SYD-2 repo password')\n",
    "\n",
    "\n",
    "* Modify the code based on which link you use e.g. SSL or HTTP\n",
    "\n",
    "\n",
    "* You can copy the links and put into a file e.g. all_DSI_repo.sh (with bash shell #!/bin/bash at the beginning of the file)\n",
    "\n",
    "\n",
    "* run the command 'chmod u+x yourfilename.sh'\n",
    "\n",
    "\n",
    "* Execute the sh file from a terminal ./yourfilename.sh\n",
    "\n",
    "\n",
    "* This will start cloning all the repos in the current directory.\n",
    "\n",
    "\n",
    "## Alternatively\n",
    "\n",
    "* If you do not want to scrape it yourself, please use the files I have provided in this git hub area (will work only for DSI 2)\n"
   ]
  },
  {
   "cell_type": "code",
   "execution_count": 2,
   "metadata": {
    "collapsed": true
   },
   "outputs": [],
   "source": [
    "from selenium import webdriver\n",
    "from bs4 import BeautifulSoup\n",
    "import sys\n",
    "import time"
   ]
  },
  {
   "cell_type": "code",
   "execution_count": null,
   "metadata": {
    "collapsed": true
   },
   "outputs": [],
   "source": []
  },
  {
   "cell_type": "code",
   "execution_count": 4,
   "metadata": {
    "collapsed": true
   },
   "outputs": [],
   "source": [
    "def open_website(chrome_driver, website, assert_text):\n",
    "    driver = webdriver.Chrome(executable_path=chrome_driver)\n",
    "    driver.get(website)\n",
    "    return driver"
   ]
  },
  {
   "cell_type": "code",
   "execution_count": null,
   "metadata": {
    "collapsed": true
   },
   "outputs": [],
   "source": []
  },
  {
   "cell_type": "code",
   "execution_count": null,
   "metadata": {
    "collapsed": false,
    "scrolled": false
   },
   "outputs": [],
   "source": [
    "driver = open_website(\"./chromedriver/chromedriver\",\"https://git.generalassemb.ly/login?return_to=%2FDSI-SYD-2\", \"DSI-GA\" )\n",
    "time.sleep(5)\n",
    "\n",
    "#input username for GA github\n",
    "input_user_name = driver.find_element_by_xpath('//*[@id=\"login_field\"]')\n",
    "input_user_name.clear()\n",
    "input_user_name.send_keys('your email address')\n",
    "\n",
    "#input password for GA github \n",
    "input_password = driver.find_element_by_xpath('//*[@id=\"password\"]')\n",
    "input_password.clear()\n",
    "input_password.send_keys('your DSI-SYD-2 repo password')\n",
    "\n",
    "#click signin button\n",
    "submit_btn = driver.find_element_by_xpath('//*[@name=\"commit\"]')\n",
    "submit_btn.click()\n",
    "\n",
    "if driver.current_url !='https://git.generalassemb.ly/DSI-SYD-2':\n",
    "    print ('log in error, try again')\n",
    "    sys.exit(0)\n",
    "\n",
    "for i in range(1, 7):\n",
    "    driver.get('https://git.generalassemb.ly/DSI-SYD-2?language=&page=' + str(i) + '&q=&type=&utf8=%E2%9C%93')\n",
    "    time.sleep(5)\n",
    "    html = driver.page_source\n",
    "    html = BeautifulSoup(html, 'lxml')\n",
    "    for itm in html.find_all('a', {'itemprop':'name codeRepository'}):\n",
    "        print ('git clone git@git.generalassemb.ly:%s.git' %itm.get('href'))\n"
   ]
  },
  {
   "cell_type": "code",
   "execution_count": 62,
   "metadata": {
    "collapsed": true
   },
   "outputs": [],
   "source": []
  },
  {
   "cell_type": "code",
   "execution_count": 66,
   "metadata": {
    "collapsed": false
   },
   "outputs": [],
   "source": []
  },
  {
   "cell_type": "code",
   "execution_count": null,
   "metadata": {
    "collapsed": false
   },
   "outputs": [],
   "source": []
  },
  {
   "cell_type": "code",
   "execution_count": null,
   "metadata": {
    "collapsed": false
   },
   "outputs": [],
   "source": []
  },
  {
   "cell_type": "code",
   "execution_count": null,
   "metadata": {
    "collapsed": false,
    "scrolled": false
   },
   "outputs": [],
   "source": []
  },
  {
   "cell_type": "code",
   "execution_count": 23,
   "metadata": {
    "collapsed": true
   },
   "outputs": [],
   "source": []
  },
  {
   "cell_type": "code",
   "execution_count": null,
   "metadata": {
    "collapsed": false
   },
   "outputs": [],
   "source": []
  },
  {
   "cell_type": "markdown",
   "metadata": {
    "collapsed": false
   },
   "source": [
    
   ]
  },
  {
   "cell_type": "code",
   "execution_count": 20,
   "metadata": {
    "collapsed": false
   },
   "outputs": [],
   "source": []
  }
 ],
 "metadata": {
  "kernelspec": {
   "display_name": "Python 3",
   "language": "python",
   "name": "python3"
  },
  "language_info": {
   "codemirror_mode": {
    "name": "ipython",
    "version": 3
   },
   "file_extension": ".py",
   "mimetype": "text/x-python",
   "name": "python",
   "nbconvert_exporter": "python",
   "pygments_lexer": "ipython3",
   "version": "3.6.0"
  }
 },
 "nbformat": 4,
 "nbformat_minor": 2
}
